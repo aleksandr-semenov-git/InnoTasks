{
 "cells": [
  {
   "cell_type": "markdown",
   "id": "d3df79dd",
   "metadata": {},
   "source": [
    "## Упражнения по библиотеке Numpy"
   ]
  },
  {
   "cell_type": "code",
   "execution_count": 3,
   "id": "76b9c43b",
   "metadata": {},
   "outputs": [],
   "source": [
    "import numpy as np\n",
    "import random"
   ]
  },
  {
   "cell_type": "markdown",
   "id": "03727b7c",
   "metadata": {},
   "source": [
    "**1.** Дан случайный массив, поменять знак у элементов, значения которых между 3 и 8"
   ]
  },
  {
   "cell_type": "code",
   "execution_count": 4,
   "id": "b89a7523",
   "metadata": {},
   "outputs": [
    {
     "name": "stdout",
     "output_type": "stream",
     "text": [
      "[[ 0  7  0 14 11  2  7  9 11 12]\n",
      " [ 1  1 10 14 12 14  6  1 12 12]]\n"
     ]
    },
    {
     "data": {
      "text/plain": [
       "array([[ 0, -7,  0, 14, 11,  2, -7,  9, 11, 12],\n",
       "       [ 1,  1, 10, 14, 12, 14, -6,  1, 12, 12]])"
      ]
     },
     "execution_count": 4,
     "metadata": {},
     "output_type": "execute_result"
    }
   ],
   "source": [
    "rng = tuple(range(4, 8))\n",
    "array = np.random.randint(0, 15, (2, 10))\n",
    "print(array)\n",
    "for item in np.nditer(array, op_flags = ['readwrite']):\n",
    "    if item in rng:\n",
    "        item -= item*2\n",
    "array\n",
    "\n"
   ]
  },
  {
   "cell_type": "markdown",
   "id": "5fa4abda",
   "metadata": {},
   "source": [
    "**2.** Заменить максимальный элемент случайного массива на 0"
   ]
  },
  {
   "cell_type": "code",
   "execution_count": 5,
   "id": "f2788a6e",
   "metadata": {},
   "outputs": [
    {
     "name": "stdout",
     "output_type": "stream",
     "text": [
      "[482 487 253 458  66 727 579 320 636 847 699 604 379 446 250]\n",
      "[482 487 253 458  66 727 579 320 636   0 699 604 379 446 250]\n"
     ]
    }
   ],
   "source": [
    "rnd_array = np.random.randint(0, 1000, 15)\n",
    "print(rnd_array)\n",
    "rnd_array[np.argmax(rnd_array)] = 0\n",
    "print(rnd_array)\n",
    "\n",
    "\n",
    "\n",
    "\n",
    "\n"
   ]
  },
  {
   "cell_type": "markdown",
   "id": "3cac656b",
   "metadata": {},
   "source": [
    "**3.** Построить прямое произведение массивов (все комбинации с каждым элементом). На вход подается двумерный массив"
   ]
  },
  {
   "cell_type": "code",
   "execution_count": 7,
   "id": "3396b764",
   "metadata": {},
   "outputs": [
    {
     "data": {
      "text/plain": [
       "array([[2629, 2212, 1423, 2531, 1240],\n",
       "       [3814, 4358, 2933, 3389, 2761],\n",
       "       [5281, 4979, 4043, 4000, 3912],\n",
       "       [3919, 4059, 2841, 3082, 2230],\n",
       "       [5436, 4456, 3097, 3223, 3645]])"
      ]
     },
     "execution_count": 7,
     "metadata": {},
     "output_type": "execute_result"
    }
   ],
   "source": [
    "a = np.random.randint(0, 3, (5, 5))\n",
    "b = np.random.randint(0, 1000, (5, 5))\n",
    "np.dot(a, b)"
   ]
  },
  {
   "cell_type": "markdown",
   "id": "674c9354",
   "metadata": {},
   "source": [
    "**4.** Даны 2 массива A (8x3) и B (2x2). Найти строки в A, которые содержат элементы из каждой строки в B, независимо от порядка элементов в B"
   ]
  },
  {
   "cell_type": "code",
   "execution_count": 8,
   "id": "cb664782",
   "metadata": {},
   "outputs": [
    {
     "name": "stdout",
     "output_type": "stream",
     "text": [
      "[[5 0 5]\n",
      " [1 8 5]\n",
      " [0 1 4]\n",
      " [9 6 7]\n",
      " [7 5 0]\n",
      " [6 8 9]\n",
      " [6 3 5]\n",
      " [5 6 2]]\n",
      "--------\n",
      "[[0 9]\n",
      " [8 8]]\n",
      "--------\n",
      "[[False  True False]\n",
      " [False  True False]\n",
      " [ True False False]\n",
      " [ True False False]\n",
      " [False False  True]\n",
      " [False  True  True]\n",
      " [False False False]\n",
      " [False False False]]\n",
      "--------\n",
      "[5 0 5]\n",
      "[1 8 5]\n",
      "[0 1 4]\n",
      "[9 6 7]\n",
      "[7 5 0]\n",
      "[6 8 9]\n"
     ]
    }
   ],
   "source": [
    "A = np.random.randint(0, 10, (8, 3))\n",
    "B = np.random.randint(0, 10, (2, 2))\n",
    "print(A)\n",
    "print('--------')\n",
    "print(B)\n",
    "print('--------')\n",
    "I = np.isin(A, B)\n",
    "print(I)\n",
    "print('--------')\n",
    "i = 0\n",
    "for item in A:\n",
    "    if np.array_equal(np.array([False, False, False]), I[i]):\n",
    "        i += 1\n",
    "        continue\n",
    "    print(item)\n",
    "    i += 1"
   ]
  },
  {
   "cell_type": "markdown",
   "id": "fa46533b",
   "metadata": {},
   "source": [
    "**5.** Дана 10x3 матрица, найти строки из неравных значений (например строка [2,2,3] остается, строка [3,3,3] удаляется)"
   ]
  },
  {
   "cell_type": "code",
   "execution_count": 9,
   "id": "fa545b23",
   "metadata": {},
   "outputs": [
    {
     "name": "stdout",
     "output_type": "stream",
     "text": [
      "[[1 0 1]\n",
      " [1 1 1]\n",
      " [0 1 1]\n",
      " [0 0 0]\n",
      " [1 1 1]\n",
      " [1 0 0]\n",
      " [0 1 0]\n",
      " [1 0 1]\n",
      " [1 1 1]\n",
      " [0 1 1]]\n",
      "--------------------\n",
      "[[1 0 1]\n",
      " [0 1 1]\n",
      " [1 0 0]\n",
      " [0 1 0]\n",
      " [1 0 1]\n",
      " [0 1 1]]\n"
     ]
    }
   ],
   "source": [
    "Z = np.random.randint(0,2,(10,3))\n",
    "E = np.logical_and.reduce(Z[:,1:] == Z[:,:-1], axis=1)\n",
    "U = Z[~E]\n",
    "print(Z)\n",
    "print('--------------------')\n",
    "print(U)\n"
   ]
  },
  {
   "cell_type": "markdown",
   "id": "28f0d116",
   "metadata": {},
   "source": [
    "**6.** Дан двумерный массив. Удалить те строки, которые повторяются"
   ]
  },
  {
   "cell_type": "code",
   "execution_count": 10,
   "id": "83d2c0b7",
   "metadata": {},
   "outputs": [
    {
     "name": "stdout",
     "output_type": "stream",
     "text": [
      "[[0 0]\n",
      " [1 2]\n",
      " [0 2]\n",
      " [0 0]\n",
      " [2 0]\n",
      " [0 0]\n",
      " [2 2]\n",
      " [1 2]]\n"
     ]
    },
    {
     "data": {
      "text/plain": [
       "array([[0, 0],\n",
       "       [0, 2],\n",
       "       [1, 2],\n",
       "       [2, 0],\n",
       "       [2, 2]])"
      ]
     },
     "execution_count": 10,
     "metadata": {},
     "output_type": "execute_result"
    }
   ],
   "source": [
    "A = np.random.randint(0, 3, (8, 2))\n",
    "print(A)\n",
    "np.unique(A, axis=0)"
   ]
  },
  {
   "cell_type": "markdown",
   "id": "6daa9e37",
   "metadata": {},
   "source": [
    "______\n",
    "______"
   ]
  },
  {
   "cell_type": "markdown",
   "id": "cfbfcaff",
   "metadata": {},
   "source": [
    "Для каждой из следующих задач (1-5) нужно привести 2 реализации – одна без использования numpy (cчитайте, что там, где на входе или выходе должны быть numpy array, будут просто списки), а вторая полностью векторизованная с использованием numpy (без использования питоновских циклов/map/list comprehension).\n",
    "\n",
    "\n",
    "__Замечание 1.__ Можно считать, что все указанные объекты непустые (к примеру, в __задаче 1__ на диагонали матрицы есть ненулевые элементы).\n",
    "\n",
    "__Замечание 2.__ Для большинства задач решение занимает не больше 1-2 строк."
   ]
  },
  {
   "cell_type": "markdown",
   "id": "673cac7f",
   "metadata": {},
   "source": [
    "___"
   ]
  },
  {
   "cell_type": "markdown",
   "id": "ca6f585e",
   "metadata": {},
   "source": [
    "* __Задача 1__: Подсчитать произведение ненулевых элементов на диагонали прямоугольной матрицы.  \n",
    " Например, для X = np.array([[1, 0, 1], [2, 0, 2], [3, 0, 3], [4, 4, 4]]) ответ 3."
   ]
  },
  {
   "cell_type": "code",
   "execution_count": 11,
   "id": "065862fc",
   "metadata": {},
   "outputs": [
    {
     "name": "stdout",
     "output_type": "stream",
     "text": [
      "[[ 6  8  1  4  7]\n",
      " [11  0  3 10 11]\n",
      " [11  1  5 13  4]\n",
      " [ 3  3  8  1 10]\n",
      " [10  4 11  5  0]\n",
      " [ 0 13  8 13 11]\n",
      " [ 9 13  8  0  9]\n",
      " [ 8 12  2  0  3]]\n",
      "[6 0 5 1 0]\n",
      "----------------------\n",
      "[[5, 2, 5], [5, 2, 2], [0, 3, 0], [3, 4, 3], [5, 0, 4]]\n",
      "[5, 2, 0]\n"
     ]
    }
   ],
   "source": [
    "# ---------------------------Numpy\n",
    "A = np.random.randint(0, 14, (8, 5))\n",
    "print(A)\n",
    "print(np.diagonal(A))\n",
    "print('----------------------')\n",
    "# ---------------------------Python\n",
    "a = [[random.randint(0, 5) for i in range(3)] for i in range(5)]\n",
    "print(a)\n",
    "print([a[i][i] for i in range(len(a[0]))])\n",
    "\n",
    "\n",
    "\n",
    "\n"
   ]
  },
  {
   "cell_type": "markdown",
   "id": "9fc51d41",
   "metadata": {},
   "source": [
    "* __Задача 2__: Даны два вектора x и y. Проверить, задают ли они одно и то же мультимножество.  \n",
    "  Например, для x = np.array([1, 2, 2, 4]), y = np.array([4, 2, 1, 2]) ответ True."
   ]
  },
  {
   "cell_type": "code",
   "execution_count": 12,
   "id": "a809e02f",
   "metadata": {},
   "outputs": [
    {
     "name": "stdout",
     "output_type": "stream",
     "text": [
      "True\n",
      "True\n"
     ]
    }
   ],
   "source": [
    "# ---------------------------Python\n",
    "x = [14, 22, 22, 4, 333, 15, 932]\n",
    "y = [14, 22, 22, 4, 15, 932, 333]\n",
    "print(sorted(x)==sorted(y))\n",
    "\n",
    "# ---------------------------Numpy\n",
    "x = np.array([14, 22, 22, 4])\n",
    "y = np.array([4, 22, 14, 22])\n",
    "print(np.array_equal(np.sort(x), np.sort(y)))\n",
    "\n"
   ]
  },
  {
   "cell_type": "markdown",
   "id": "b9c185c7",
   "metadata": {},
   "source": [
    "* __Задача 3__: Найти максимальный элемент в векторе x среди элементов, перед которыми стоит ноль. \n",
    " Например, для x = np.array([6, 2, 0, 3, 0, 0, 5, 7, 0]) ответ 5."
   ]
  },
  {
   "cell_type": "code",
   "execution_count": 147,
   "id": "b57df008",
   "metadata": {},
   "outputs": [
    {
     "name": "stdout",
     "output_type": "stream",
     "text": [
      "MAX = 3\n",
      "-----------------\n",
      "EXEPTION: zero-size array to reduction operation maximum which has no identity\n",
      "No zeroes inside array [3 4 2 2 4 3 4 1 3 3]\n"
     ]
    }
   ],
   "source": [
    "# ---------------------------Python\n",
    "listt = [random.randint(0, 15) for i in range(25)]\n",
    "after_zero = [listt[i] for i in range(1, len(listt)) if not listt[i-1]]\n",
    "try:\n",
    "    maxx = max(after_zero)\n",
    "    print(f'MAX = {maxx}')\n",
    "except ValueError as _e:\n",
    "    print(f'EXEPTION: {_e}')\n",
    "    print(listt)\n",
    "    print(after_zero)\n",
    "print('-----------------')\n",
    "# ---------------------------Numpy\n",
    "arr = np.random.randint(0,5,10)\n",
    "all_zeroes = arr == 0\n",
    "try:\n",
    "    print(f'MAX = {arr[1:][all_zeroes[:-1]].max()}')\n",
    "except ValueError as _e:\n",
    "    print(f'EXEPTION: {_e}')\n",
    "    print(f'No zeroes {arr}')\n",
    "\n"
   ]
  },
  {
   "cell_type": "markdown",
   "id": "480be4ce",
   "metadata": {},
   "source": [
    "* __Задача 4__: Реализовать кодирование длин серий (Run-length encoding). Для некоторого вектора x необходимо вернуть кортеж из двух векторов одинаковой длины. Первый содержит числа, а второй - сколько раз их нужно повторить.  \n",
    " Например, для x = np.array([2, 2, 2, 3, 3, 3, 5]) ответ (np.array([2, 3, 5]), np.array([3, 3, 1]))."
   ]
  },
  {
   "cell_type": "code",
   "execution_count": 361,
   "id": "ca0dddb3",
   "metadata": {},
   "outputs": [
    {
     "name": "stdout",
     "output_type": "stream",
     "text": [
      "(1, 3, 23, 1, 8, 42) (3, 3, 2, 1, 1, 2)\n",
      "------------------------NumPY\n",
      "[False False False  True  True False  True  True False  True False False\n",
      " False  True False  True  True False False False]\n",
      "------------------------RESULT-1\n",
      "[  1 666   1   3  23   1   8  42 555   1 777]\n",
      "------------------------RESULT-2\n",
      "[1 1 3 3 2 1 1 2 3 1 1]\n",
      "------------------------Решение-2(с)\n",
      "[1 1 3 3 2 1 1 2 3 1 1] [  1 666   1   3  23   1   8  42 555   1 777]\n"
     ]
    }
   ],
   "source": [
    "# ---------------------------Python\n",
    "import itertools\n",
    "\n",
    "listt = [1, 1, 1, 3, 3, 3, 23, 23, 1, 8, 42, 42]\n",
    "result1 = []\n",
    "result2 = []\n",
    "\n",
    "def grouper(listt):\n",
    "    for digit, same in itertools.groupby(listt):\n",
    "            count = sum(1 for elem in same)\n",
    "            result1.append(digit)\n",
    "            result2.append(count)\n",
    "    return tuple(result1), tuple(result2)\n",
    "\n",
    "A, B = grouper(listt)\n",
    "print(A, B)\n",
    "#---------------------------Numpy\n",
    "print('------------------------NumPY')\n",
    "listt = [1, 666, 1, 1, 1, 3, 3, 3, 23, 23, 1, 8, 42, 42, 555, 555, 555, 1, 777]\n",
    "\n",
    "arr = np.array(listt)\n",
    "arr = np.insert(arr, 0, arr[0]+1, axis=0)\n",
    "arr = np.append(arr, arr[-1]+1)\n",
    "\n",
    "compare = arr[1:] == arr[:-1]\n",
    "print(compare)\n",
    "B = np.concatenate([compare, [~compare[-1]]])\n",
    "print('------------------------RESULT-1')\n",
    "print(arr[1:-1][~B[1:-1]])\n",
    "O = np.where(B == 0)[0]\n",
    "print('------------------------RESULT-2')\n",
    "print(np.diff(O))\n",
    "\n",
    "print('------------------------Решение-2(с)')\n",
    "listt = [1, 666, 1, 1, 1, 3, 3, 3, 23, 23, 1, 8, 42, 42, 555, 555, 555, 1, 777]\n",
    "\n",
    "arr = np.array(listt)\n",
    "b = arr\n",
    "y = b[1:] != b[:-1]   \n",
    "i = np.append(np.where(y), len(b) - 1)\n",
    "z = np.diff(np.append(-1, i))  \n",
    "print(z, b[i])\n",
    "\n",
    "\n",
    "\n",
    "\n"
   ]
  },
  {
   "cell_type": "markdown",
   "id": "aefbba70",
   "metadata": {},
   "source": [
    "* __Задача 5__: Даны две выборки объектов - X и Y. Вычислить матрицу евклидовых расстояний между объектами. Сравните с функцией scipy.spatial.distance.cdist по скорости работы."
   ]
  },
  {
   "cell_type": "code",
   "execution_count": 296,
   "id": "1e807797",
   "metadata": {},
   "outputs": [
    {
     "name": "stdout",
     "output_type": "stream",
     "text": [
      "------------------------------------Python\n",
      "Python--- 0.00043582916259765625 seconds ---\n",
      "Result = [[ 6.92820323 17.3781472   0.          2.23606798]\n",
      " [16.97056275 17.3781472  20.         19.10497317]\n",
      " [ 5.38516481 15.58845727  2.23606798  0.        ]\n",
      " [ 5.38516481 15.58845727  2.23606798  0.        ]]\n",
      "------------------------------------Numpy\n",
      "Numpy--- 0.0003490447998046875 seconds ---\n",
      "Result = [[ 6.92820323 17.3781472   0.          2.23606798]\n",
      " [16.97056275 17.3781472  20.         19.10497317]\n",
      " [ 5.38516481 15.58845727  2.23606798  0.        ]\n",
      " [ 5.38516481 15.58845727  2.23606798  0.        ]]\n",
      "------------------------------------Skipy\n",
      "Skipy--- 0.0003414154052734375 seconds ---\n",
      "Result = [[ 6.92820323 17.3781472   0.          2.23606798]\n",
      " [16.97056275 17.3781472  20.         19.10497317]\n",
      " [ 5.38516481 15.58845727  2.23606798  0.        ]\n",
      " [ 5.38516481 15.58845727  2.23606798  0.        ]]\n"
     ]
    }
   ],
   "source": [
    "from scipy.spatial.distance import cdist\n",
    "import time\n",
    "from functools import reduce\n",
    "from itertools import starmap\n",
    "from operator import mul, sub, pow\n",
    "\n",
    "# ---------------------------Python\n",
    "coord1 = [1, 2, 3], [1, 22, 3], [3, 3, 3], [3, 3, 3]\n",
    "coord2 = [5, 6, 7], [12, 12, 12], [1, 2, 3], [3, 3, 3]\n",
    "\n",
    "\n",
    "def matrixsub_and_sqrt(a, b):\n",
    "    matrix = []\n",
    "    for i, row in enumerate(a):\n",
    "        matrix.append(zip(row, b[i]))\n",
    "\n",
    "    for row in matrix:\n",
    "        yield [*(list((starmap(lambda x, y: (x-y)**0.5, row))))]\n",
    "    \n",
    "\n",
    "def matrixmul(a, b):\n",
    "    for row in a:\n",
    "        yield [sum(starmap(mul, zip(row, row2)))*2 for row2 in b]\n",
    "\n",
    "        \n",
    "def dist_pairwise(a, b):\n",
    "    if len(a)==len(b):\n",
    "        result = []\n",
    "        for item1 in a:\n",
    "            row = []\n",
    "            squared_sum1 = reduce(lambda x, y: x + y**2, item1, 0)\n",
    "            for item2 in b:\n",
    "                squared_sum2 = reduce(lambda x, y: x + y**2, item2, 0)\n",
    "                row.append(squared_sum1 + squared_sum2)\n",
    "            result.append(row)\n",
    "        return result\n",
    "\n",
    "\n",
    "print('------------------------------------Python')\n",
    "start_time = time.time()\n",
    "A = dist_pairwise(coord1, coord2)\n",
    "B = list(matrixmul(coord1, coord2))\n",
    "C = matrixsub_and_sqrt(A, B)\n",
    "print(\"Python--- %s seconds ---\" % (time.time() - start_time))\n",
    "print(f'Result = {result}')\n",
    "\n",
    "# ---------------------------Numpy\n",
    "print('------------------------------------Numpy')\n",
    "XA = np.array([*coord1])\n",
    "XB = np.array([*coord2])\n",
    "\n",
    "def dist_pairwise(a, b):\n",
    "    P = np.add.outer(np.sum(a**2, axis=1), np.sum(b**2, axis=1))\n",
    "    N = np.dot(a, b.T)\n",
    "    return np.sqrt(P - 2*N)\n",
    "\n",
    "start_time = time.time()\n",
    "result = dist_pairwise(XA, XB)\n",
    "print(\"Numpy--- %s seconds ---\" % (time.time() - start_time))\n",
    "print(f'Result = {result}')\n",
    "\n",
    "\n",
    "# ---------------------------Skipy\n",
    "print('------------------------------------Skipy')\n",
    "start_time = time.time()\n",
    "\n",
    "Y = cdist(XA, XB, 'euclidean')\n",
    "print(\"Skipy--- %s seconds ---\" % (time.time() - start_time))\n",
    "print(f'Result = {Y}')"
   ]
  },
  {
   "cell_type": "markdown",
   "id": "973e8064",
   "metadata": {},
   "source": [
    "_______\n",
    "________"
   ]
  },
  {
   "cell_type": "markdown",
   "id": "1104acb7",
   "metadata": {},
   "source": [
    "* #### __Задача 6__: CrunchieMunchies __*__\n",
    "\n",
    "Вы работаете в отделе маркетинга пищевой компании MyCrunch, которая разрабатывает новый вид вкусных, полезных злаков под названием **CrunchieMunchies**.\n",
    "\n",
    "Вы хотите продемонстрировать потребителям, насколько полезны ваши хлопья по сравнению с другими ведущими брендами, поэтому вы собрали данные о питании нескольких разных конкурентов.\n",
    "\n",
    "Ваша задача - использовать вычисления Numpy для анализа этих данных и доказать, что ваши **СrunchieMunchies** - самый здоровый выбор для потребителей.\n"
   ]
  },
  {
   "cell_type": "code",
   "execution_count": 299,
   "id": "10a77f8d",
   "metadata": {},
   "outputs": [],
   "source": [
    "import numpy as np\n",
    "import pandas as pd\n"
   ]
  },
  {
   "cell_type": "markdown",
   "id": "ab87cb03",
   "metadata": {},
   "source": [
    "1. Просмотрите файл cereal.csv. Этот файл содержит количества калорий для различных марок хлопьев. Загрузите данные из файла и сохраните их как calorie_stats."
   ]
  },
  {
   "cell_type": "code",
   "execution_count": 302,
   "id": "9681ebf2",
   "metadata": {},
   "outputs": [
    {
     "data": {
      "text/plain": [
       "array([ 70., 120.,  70.,  50., 110., 110., 110., 130.,  90.,  90., 120.,\n",
       "       110., 120., 110., 110., 110., 100., 110., 110., 110., 100., 110.,\n",
       "       100., 100., 110., 110., 100., 120., 120., 110., 100., 110., 100.,\n",
       "       110., 120., 120., 110., 110., 110., 140., 110., 100., 110., 100.,\n",
       "       150., 150., 160., 100., 120., 140.,  90., 130., 120., 100.,  50.,\n",
       "        50., 100., 100., 120., 100.,  90., 110., 110.,  80.,  90.,  90.,\n",
       "       110., 110.,  90., 110., 140., 100., 110., 110., 100., 100., 110.])"
      ]
     },
     "execution_count": 302,
     "metadata": {},
     "output_type": "execute_result"
    }
   ],
   "source": [
    "calorie_stats = np.loadtxt(\"./data/cereal.csv\", delimiter=\",\")\n",
    "calorie_stats"
   ]
  },
  {
   "cell_type": "markdown",
   "id": "139cfbd8",
   "metadata": {},
   "source": [
    "2. В одной порции CrunchieMunchies содержится 60 калорий. Насколько выше среднее количество калорий у ваших конкурентов?\n",
    "\n",
    "Сохраните ответ в переменной average_calories и распечатайте переменную в терминале"
   ]
  },
  {
   "cell_type": "code",
   "execution_count": 395,
   "id": "7036d240",
   "metadata": {},
   "outputs": [
    {
     "data": {
      "text/plain": [
       "106.88311688311688"
      ]
     },
     "execution_count": 395,
     "metadata": {},
     "output_type": "execute_result"
    }
   ],
   "source": [
    "average_calories = calorie_stats.mean()\n",
    "average_calories"
   ]
  },
  {
   "cell_type": "markdown",
   "id": "b2ddb4cd",
   "metadata": {},
   "source": [
    "3. Корректно ли среднее количество калорий отражает распределение набора данных? Давайте отсортируем данные и посмотрим.\n",
    "\n",
    "Отсортируйте данные и сохраните результат в переменной calorie_stats_sorted. Распечатайте отсортированную информацию"
   ]
  },
  {
   "cell_type": "code",
   "execution_count": 396,
   "id": "46eeb4ed",
   "metadata": {},
   "outputs": [
    {
     "data": {
      "text/plain": [
       "array([ 50.,  50.,  50.,  70.,  70.,  80.,  90.,  90.,  90.,  90.,  90.,\n",
       "        90.,  90., 100., 100., 100., 100., 100., 100., 100., 100., 100.,\n",
       "       100., 100., 100., 100., 100., 100., 100., 100., 110., 110., 110.,\n",
       "       110., 110., 110., 110., 110., 110., 110., 110., 110., 110., 110.,\n",
       "       110., 110., 110., 110., 110., 110., 110., 110., 110., 110., 110.,\n",
       "       110., 110., 110., 110., 120., 120., 120., 120., 120., 120., 120.,\n",
       "       120., 120., 120., 130., 130., 140., 140., 140., 150., 150., 160.])"
      ]
     },
     "execution_count": 396,
     "metadata": {},
     "output_type": "execute_result"
    }
   ],
   "source": [
    "calorie_stats_sorted = np.sort(calorie_stats)\n",
    "calorie_stats_sorted"
   ]
  },
  {
   "cell_type": "markdown",
   "id": "4dc74116",
   "metadata": {},
   "source": [
    "4. Похоже, что большинство значений выше среднего. Давайте посмотрим, является ли медиана наиболее корректным показателем набора данных.\n",
    "\n",
    "Вычислите медиану набора данных и сохраните свой ответ в median_calories. Выведите медиану, чтобы вы могли видеть, как она сравнивается со средним значением."
   ]
  },
  {
   "cell_type": "code",
   "execution_count": 333,
   "id": "b56627c3",
   "metadata": {},
   "outputs": [
    {
     "data": {
      "text/plain": [
       "110.0"
      ]
     },
     "execution_count": 333,
     "metadata": {},
     "output_type": "execute_result"
    }
   ],
   "source": [
    "median_calories = np.median(calorie_stats)\n",
    "median_calories"
   ]
  },
  {
   "cell_type": "markdown",
   "id": "a63ab72f",
   "metadata": {},
   "source": [
    "5. В то время как медиана показывает, что по крайней мере половина наших значений составляет более 100 калорий, было бы более впечатляюще показать, что значительная часть конкурентов имеет более высокое количество калорий, чем CrunchieMunchies.\n",
    "\n",
    "Рассчитайте различные процентили и распечатайте их, пока не найдете наименьший процентиль, превышающий 60 калорий. Сохраните это значение в переменной nth_percentile."
   ]
  },
  {
   "cell_type": "code",
   "execution_count": 383,
   "id": "fe80ce03",
   "metadata": {},
   "outputs": [
    {
     "name": "stdout",
     "output_type": "stream",
     "text": [
      "Min percentil > 60 cal = 4%\n",
      "96% of concurents have more colories than CrunchieMunchies have\n"
     ]
    }
   ],
   "source": [
    "for i in range(1, 101):\n",
    "    if np.percentile(calorie_stats, i) > 60:\n",
    "        nth_percentile = i\n",
    "        print(f'Min percentil > 60 cal = {nth_percentile}%')\n",
    "        print(f'{100-nth_percentile}% of concurents have more colories than CrunchieMunchies have')\n",
    "        break"
   ]
  },
  {
   "cell_type": "markdown",
   "id": "a2a3c5aa",
   "metadata": {},
   "source": [
    "6. Хотя процентиль показывает нам, что у большинства конкурентов количество калорий намного выше, это неудобная концепция для использования в маркетинговых материалах.\n",
    "\n",
    "Вместо этого давайте подсчитаем процент хлопьев, в которых содержится более 60 калорий на порцию. Сохраните свой ответ в переменной more_calories и распечатайте его"
   ]
  },
  {
   "cell_type": "code",
   "execution_count": 397,
   "id": "ade0f6ea",
   "metadata": {},
   "outputs": [
    {
     "name": "stdout",
     "output_type": "stream",
     "text": [
      "96.1038961038961\n"
     ]
    }
   ],
   "source": [
    "more = np.sum(calorie_stats > 60)\n",
    "more_calories = more*100/calorie_stats.size\n",
    "print(more_calories)"
   ]
  },
  {
   "cell_type": "markdown",
   "id": "1735d65b",
   "metadata": {},
   "source": [
    "\n",
    "7. Это действительно высокий процент. Это будет очень полезно, когда мы будем продвигать CrunchieMunchies. Но один вопрос заключается в том, насколько велики различия в наборе данных? Можем ли мы сделать обобщение, что в большинстве злаков содержится около 100 калорий или разброс еще больше?\n",
    "\n",
    "Рассчитайте величину отклонения, найдя стандартное отклонение, Сохраните свой ответ в calorie_std и распечатайте на терминале. Как мы можем включить эту ценность в наш анализ?"
   ]
  },
  {
   "cell_type": "code",
   "execution_count": 393,
   "id": "85c8df1f",
   "metadata": {},
   "outputs": [
    {
     "data": {
      "text/plain": [
       "19.35718533390827"
      ]
     },
     "execution_count": 393,
     "metadata": {},
     "output_type": "execute_result"
    }
   ],
   "source": [
    "calorie_std = np.std(calorie_stats)\n",
    "calorie_std"
   ]
  },
  {
   "cell_type": "markdown",
   "id": "037455c5",
   "metadata": {},
   "source": [
    "8. Напишите короткий абзац, в котором кратко изложите свои выводы и то, как, по вашему мнению, эти данные могут быть использованы в интересах Mycrunch при маркетинге CrunchieMunchies."
   ]
  },
  {
   "cell_type": "raw",
   "id": "35d04cfe",
   "metadata": {},
   "source": [
    "    We should definitely use 'more_calories' to show that 96% of our concurents have more cal. than CrunchieMunchies. We should admit that 'average_calories' = 107 cal. and 'calorie_std' = 19 cal. That mean that in average most of the concurents have 88 - 126 cal. and CrunchieMunchies have 60 cal. So our product is much healthier.\n",
    "'nth_percentile' is harder to understand but also can be usefull statistics\n",
    "for our business partners. "
   ]
  }
 ],
 "metadata": {
  "kernelspec": {
   "display_name": "Python 3",
   "language": "python",
   "name": "python3"
  },
  "language_info": {
   "codemirror_mode": {
    "name": "ipython",
    "version": 3
   },
   "file_extension": ".py",
   "mimetype": "text/x-python",
   "name": "python",
   "nbconvert_exporter": "python",
   "pygments_lexer": "ipython3",
   "version": "3.6.9"
  }
 },
 "nbformat": 4,
 "nbformat_minor": 5
}
